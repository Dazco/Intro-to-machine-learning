{
  "nbformat": 4,
  "nbformat_minor": 0,
  "metadata": {
    "colab": {
      "name": "Celsius to Farenheit conversion Model",
      "provenance": [],
      "collapsed_sections": [],
      "authorship_tag": "ABX9TyPC/F0jT9FmNkrxPxUQoeQN",
      "include_colab_link": true
    },
    "kernelspec": {
      "name": "python3",
      "display_name": "Python 3"
    }
  },
  "cells": [
    {
      "cell_type": "markdown",
      "metadata": {
        "id": "view-in-github",
        "colab_type": "text"
      },
      "source": [
        "<a href=\"https://colab.research.google.com/github/Dazco/Intro-to-machine-learning/blob/master/Celsius_to_Farenheit_conversion_Model.ipynb\" target=\"_parent\"><img src=\"https://colab.research.google.com/assets/colab-badge.svg\" alt=\"Open In Colab\"/></a>"
      ]
    },
    {
      "cell_type": "code",
      "metadata": {
        "id": "Ih1VLoYEqaCE",
        "colab_type": "code",
        "colab": {}
      },
      "source": [
        "import tensorflow as tf\n",
        "import numpy as np\n",
        "import logging\n",
        "\n",
        "logger = tf.get_logger()\n",
        "logger.setLevel(logging.ERROR)"
      ],
      "execution_count": 0,
      "outputs": []
    },
    {
      "cell_type": "code",
      "metadata": {
        "id": "e0aTGQepJHOk",
        "colab_type": "code",
        "outputId": "06b3b575-c340-4cec-e7fe-eaea5f98f397",
        "colab": {
          "base_uri": "https://localhost:8080/",
          "height": 136
        }
      },
      "source": [
        "celsius_q = np.array([-40, -10,  0,  8, 15, 22,  38], dtype=\"float\")\n",
        "farenheit_a = np.array([-40,  14, 32, 46, 59, 72, 100], dtype=\"float\")\n",
        "for i,c in enumerate(celsius_q):\n",
        "  print(\"{} degrees in Celsius = {} degrees in Farenheit\".format(c, farenheit_a[i]))"
      ],
      "execution_count": 0,
      "outputs": [
        {
          "output_type": "stream",
          "text": [
            "-40.0 degrees in Celsius = -40.0 degrees in Farenheit\n",
            "-10.0 degrees in Celsius = 14.0 degrees in Farenheit\n",
            "0.0 degrees in Celsius = 32.0 degrees in Farenheit\n",
            "8.0 degrees in Celsius = 46.0 degrees in Farenheit\n",
            "15.0 degrees in Celsius = 59.0 degrees in Farenheit\n",
            "22.0 degrees in Celsius = 72.0 degrees in Farenheit\n",
            "38.0 degrees in Celsius = 100.0 degrees in Farenheit\n"
          ],
          "name": "stdout"
        }
      ]
    },
    {
      "cell_type": "code",
      "metadata": {
        "id": "00K8PwigJphs",
        "colab_type": "code",
        "colab": {}
      },
      "source": [
        "model = tf.keras.Sequential([\n",
        "    tf.keras.layers.Dense(input_shape=[1], units=1)\n",
        "])\n",
        "model.compile(loss=\"mean_squared_error\", optimizer=tf.keras.optimizers.Adam(0.1))"
      ],
      "execution_count": 0,
      "outputs": []
    },
    {
      "cell_type": "code",
      "metadata": {
        "id": "1vAROHV66MZW",
        "colab_type": "code",
        "outputId": "81aaf13d-5481-459c-e2d0-0cc8b500612b",
        "colab": {
          "base_uri": "https://localhost:8080/",
          "height": 34
        }
      },
      "source": [
        "history = model.fit(celsius_q, farenheit_a, epochs=500, verbose=False)\n",
        "print(\"Finished Training Model\")"
      ],
      "execution_count": 0,
      "outputs": [
        {
          "output_type": "stream",
          "text": [
            "Finished Training Model\n"
          ],
          "name": "stdout"
        }
      ]
    },
    {
      "cell_type": "code",
      "metadata": {
        "id": "0-PlFaAG675r",
        "colab_type": "code",
        "outputId": "227a77ca-ddaf-4693-d995-25224e170ed8",
        "colab": {
          "base_uri": "https://localhost:8080/",
          "height": 300
        }
      },
      "source": [
        "import matplotlib.pyplot as plt\n",
        "plt.xlabel('Epoch Number')\n",
        "plt.ylabel('Loss Magnitude')\n",
        "plt.plot(history.history['loss'])"
      ],
      "execution_count": 0,
      "outputs": [
        {
          "output_type": "execute_result",
          "data": {
            "text/plain": [
              "[<matplotlib.lines.Line2D at 0x7f1cfb8c6f28>]"
            ]
          },
          "metadata": {
            "tags": []
          },
          "execution_count": 5
        },
        {
          "output_type": "display_data",
          "data": {
            "image/png": "[encoded data removed]",
            "text/plain": [
              "<Figure size 432x288 with 1 Axes>"
            ]
          },
          "metadata": {
            "tags": [],
            "needs_background": "light"
          }
        }
      ]
    },
    {
      "cell_type": "code",
      "metadata": {
        "id": "IDYCmYwy8F52",
        "colab_type": "code",
        "outputId": "1fd762e6-4f72-42fb-9e8a-00fcc84aeb27",
        "colab": {
          "base_uri": "https://localhost:8080/",
          "height": 34
        }
      },
      "source": [
        "print(model.predict([100.0]))"
      ],
      "execution_count": 0,
      "outputs": [
        {
          "output_type": "stream",
          "text": [
            "[[211.3334]]\n"
          ],
          "name": "stdout"
        }
      ]
    }
  ]
}